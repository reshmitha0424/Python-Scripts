{
  "nbformat": 4,
  "nbformat_minor": 0,
  "metadata": {
    "colab": {
      "provenance": [],
      "authorship_tag": "ABX9TyN7M4pQrzJJa3BJgLF4wUkh",
      "include_colab_link": true
    },
    "kernelspec": {
      "name": "python3",
      "display_name": "Python 3"
    },
    "language_info": {
      "name": "python"
    }
  },
  "cells": [
    {
      "cell_type": "markdown",
      "metadata": {
        "id": "view-in-github",
        "colab_type": "text"
      },
      "source": [
        "<a href=\"https://colab.research.google.com/github/reshmitha0424/Python-Scripts/blob/main/RockPaperScissorsGame.ipynb\" target=\"_parent\"><img src=\"https://colab.research.google.com/assets/colab-badge.svg\" alt=\"Open In Colab\"/></a>"
      ]
    },
    {
      "cell_type": "code",
      "execution_count": 8,
      "metadata": {
        "colab": {
          "base_uri": "https://localhost:8080/"
        },
        "id": "_1LyWvftWl8R",
        "outputId": "906f7d2d-7e47-447b-c990-33339b01de71"
      },
      "outputs": [
        {
          "output_type": "stream",
          "name": "stdout",
          "text": [
            "Enter your choice : rock, paper or scissors :rock\n",
            "You chose rock\n",
            "The computer chose scissors\n",
            "You win!\n"
          ]
        }
      ],
      "source": [
        "import random\n",
        "\n",
        "choices = [\"rock\", \"paper\", \"scissors\"]\n",
        "\n",
        "def rock_paper_scissors(user_choice):\n",
        "  computer_choice=random.choice(choices)\n",
        "  print(\"The computer chose\", computer_choice)\n",
        "  if user_choice == computer_choice:\n",
        "    print(\"Try again!\")\n",
        "  elif (user_choice == \"rock\" and computer_choice == \"scissors\") or \\\n",
        "       (user_choice == \"paper\" and computer_choice == \"rock\") or \\\n",
        "       (user_choice == \"scissors\" and computer_choice == \"paper\"):\n",
        "    print(\"You win!\")\n",
        "  else:\n",
        "    print(\"You lose!\")\n",
        "\n",
        "\n",
        "if __name__ == \"__main__\":\n",
        "  user_input = input(\"Enter your choice : rock, paper or scissors :\")\n",
        "  user_input = user_input.lower()\n",
        "  if user_input not in choices:\n",
        "    print(\"Invalid choice, please try again.\")\n",
        "  else:\n",
        "    print(f\"You chose {user_input}\")\n",
        "    rock_paper_scissors(user_input)\n"
      ]
    }
  ]
}