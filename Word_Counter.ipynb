{
  "nbformat": 4,
  "nbformat_minor": 0,
  "metadata": {
    "colab": {
      "provenance": [],
      "authorship_tag": "ABX9TyMl03ydL+/vwRfZEDnSRASZ",
      "include_colab_link": true
    },
    "kernelspec": {
      "name": "python3",
      "display_name": "Python 3"
    },
    "language_info": {
      "name": "python"
    }
  },
  "cells": [
    {
      "cell_type": "markdown",
      "metadata": {
        "id": "view-in-github",
        "colab_type": "text"
      },
      "source": [
        "<a href=\"https://colab.research.google.com/github/reshmitha0424/Python-Scripts/blob/main/Word_Counter.ipynb\" target=\"_parent\"><img src=\"https://colab.research.google.com/assets/colab-badge.svg\" alt=\"Open In Colab\"/></a>"
      ]
    },
    {
      "cell_type": "code",
      "execution_count": 1,
      "metadata": {
        "colab": {
          "base_uri": "https://localhost:8080/"
        },
        "id": "BDtgGoqqu6O_",
        "outputId": "22720842-b3b9-409c-fde6-c7010cd4005b"
      },
      "outputs": [
        {
          "output_type": "stream",
          "name": "stdout",
          "text": [
            "Enter your text: Hi my name is Reshmitha and Reshmitha is a famous girl in the campus\n",
            "Your text contained 14 words.\n",
            "Your text contained 68 characters.\n",
            "Word Frequency:\n",
            "hi: 1\n",
            "my: 1\n",
            "name: 1\n",
            "is: 2\n",
            "reshmitha: 2\n",
            "and: 1\n",
            "a: 1\n",
            "famous: 1\n",
            "girl: 1\n",
            "in: 1\n",
            "the: 1\n",
            "campus: 1\n"
          ]
        }
      ],
      "source": [
        "#function to get the count of the words and the frequency\n",
        "def word_counter(user_input):\n",
        "  words = user_input.split()\n",
        "  char_count = len(user_input)\n",
        "  word_count = len(words)\n",
        "\n",
        "  #to know the frequency of each word in the text given\n",
        "  word_freq = {}\n",
        "  for i in words:\n",
        "    i = i.lower().strip(\".,!?\\\"'\")\n",
        "    word_freq[i] = word_freq.get(i, 0) + 1\n",
        "\n",
        "  #printing the results\n",
        "  print(f\"Your text contained {word_count} words.\")\n",
        "  print(f\"Your text contained {char_count} characters.\")\n",
        "  print(\"Word Frequency:\")\n",
        "  for word, count in word_freq.items():\n",
        "    print(f\"{word}: {count}\")\n",
        "\n",
        "\n",
        "#main function\n",
        "user_input = input(\"Enter your text: \")\n",
        "word_counter(user_input)\n"
      ]
    }
  ]
}