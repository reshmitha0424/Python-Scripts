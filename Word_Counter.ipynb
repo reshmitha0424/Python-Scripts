{
  "nbformat": 4,
  "nbformat_minor": 0,
  "metadata": {
    "colab": {
      "provenance": [],
      "authorship_tag": "ABX9TyN4JUIU17tNy8bBAfs8mi9b",
      "include_colab_link": true
    },
    "kernelspec": {
      "name": "python3",
      "display_name": "Python 3"
    },
    "language_info": {
      "name": "python"
    }
  },
  "cells": [
    {
      "cell_type": "markdown",
      "metadata": {
        "id": "view-in-github",
        "colab_type": "text"
      },
      "source": [
        "<a href=\"https://colab.research.google.com/github/reshmitha0424/Python-Scripts/blob/main/Word_Counter.ipynb\" target=\"_parent\"><img src=\"https://colab.research.google.com/assets/colab-badge.svg\" alt=\"Open In Colab\"/></a>"
      ]
    },
    {
      "cell_type": "code",
      "execution_count": 6,
      "metadata": {
        "colab": {
          "base_uri": "https://localhost:8080/"
        },
        "id": "BDtgGoqqu6O_",
        "outputId": "1c02d80b-5925-4cb2-c12f-595aac751444"
      },
      "outputs": [
        {
          "output_type": "stream",
          "name": "stdout",
          "text": [
            "Enter your text: hi helo\n",
            "Your text contained 2 words.\n",
            "Your text contained 7 characters.\n",
            "Your text contained 3 vowels.\n",
            "\n",
            "Word Frequency:\n",
            "hi: 1\n",
            "helo: 1\n"
          ]
        }
      ],
      "source": [
        "#function to get the count of the words and the frequency\n",
        "def word_counter(user_input):\n",
        "  words = user_input.split()\n",
        "  char_count = len(user_input)\n",
        "  word_count = len(words)\n",
        "  vowel_count = 0\n",
        "\n",
        "  #to know the frequency of each word in the text given\n",
        "  word_freq = {}\n",
        "  for i in words:\n",
        "    i = i.lower().strip(\".,!?\\\"'\")\n",
        "    word_freq[i] = word_freq.get(i, 0) + 1\n",
        "\n",
        "  #to know the number of vowels\n",
        "  for i in user_input.lower():\n",
        "    if i in \"aeiou\":\n",
        "      vowel_count += 1\n",
        "\n",
        "  #printing the results\n",
        "  print(f\"Your text contained {word_count} words.\")\n",
        "  print(f\"Your text contained {char_count} characters.\")\n",
        "  if vowel_count == 0:\n",
        "    print(f\"Your text does not contain vowels.\")\n",
        "  elif vowel_count == 1:\n",
        "    print(f\"Your text contained {vowel_count} vowel.\")\n",
        "  else:\n",
        "    print(f\"Your text contained {vowel_count} vowels.\")\n",
        "  print(\"\\nWord Frequency:\")\n",
        "  for word, count in word_freq.items():\n",
        "    print(f\"{word}: {count}\")\n",
        "\n",
        "\n",
        "#main function\n",
        "user_input = input(\"Enter your text: \")\n",
        "word_counter(user_input)\n"
      ]
    }
  ]
}